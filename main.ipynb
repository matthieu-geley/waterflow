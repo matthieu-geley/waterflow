{
 "cells": [
  {
   "cell_type": "markdown",
   "id": "00ca416b",
   "metadata": {},
   "source": [
    "# Waterflow: A Water Quality Prediction System\n",
    "\n",
    "Dans ce projet, nous allons développer un système de prédiction de la qualité de l'eau en utilisant des modèles de machine learning. Nous allons utiliser MLflow pour le suivi des expériences et la gestion des modèles.\n",
    "\n",
    "## Installation des dépendances\n",
    "```bash\n",
    "pip install -r requirements.txt\n",
    "```\n",
    "## Importation des bibliothèques nécessaires"
   ]
  },
  {
   "cell_type": "code",
   "execution_count": 1,
   "id": "59845377",
   "metadata": {},
   "outputs": [],
   "source": [
    "import mlflow"
   ]
  },
  {
   "cell_type": "markdown",
   "id": "2f0f0b52",
   "metadata": {},
   "source": [
    "Instantiation de `mlflow` à l'aide de la commande suivante dans le terminal :\n",
    "```bash\n",
    "mlflow server --host 127.0.0.1 --port 5000\n",
    "```\n",
    "\n",
    "Puis accès à l'interface web de MLflow via `http://localhost:5000`."
   ]
  },
  {
   "cell_type": "code",
   "execution_count": 2,
   "id": "f0ed91f1",
   "metadata": {},
   "outputs": [
    {
     "data": {
      "text/plain": [
       "<Experiment: artifact_location='mlflow-artifacts:/316023407685107800', creation_time=1751444283180, experiment_id='316023407685107800', last_update_time=1751444283180, lifecycle_stage='active', name='experiment_water_quality', tags={}>"
      ]
     },
     "execution_count": 2,
     "metadata": {},
     "output_type": "execute_result"
    }
   ],
   "source": [
    "# Set our tracking server uri for logging\n",
    "mlflow.set_tracking_uri(uri=\"http://127.0.0.1:5000\")\n",
    "\n",
    "# Create a new MLflow Experiment\n",
    "mlflow.set_experiment(\"experiment_water_quality\")"
   ]
  }
 ],
 "metadata": {
  "kernelspec": {
   "display_name": "Python 3",
   "language": "python",
   "name": "python3"
  },
  "language_info": {
   "codemirror_mode": {
    "name": "ipython",
    "version": 3
   },
   "file_extension": ".py",
   "mimetype": "text/x-python",
   "name": "python",
   "nbconvert_exporter": "python",
   "pygments_lexer": "ipython3",
   "version": "3.12.10"
  }
 },
 "nbformat": 4,
 "nbformat_minor": 5
}
